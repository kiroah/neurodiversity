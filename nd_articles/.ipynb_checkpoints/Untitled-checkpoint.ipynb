{
 "cells": [
  {
   "cell_type": "code",
   "execution_count": 2,
   "id": "fddb426a-8039-4061-87ca-9addaee40cce",
   "metadata": {},
   "outputs": [],
   "source": [
    "import re\n",
    "from datetime import date,timedelta\n",
    "import time\n",
    "import csv\n",
    "\n",
    "import requests\n",
    "from bs4 import BeautifulSoup\n",
    "from selenium import webdriver\n",
    "import pandas as pd\n",
    "import random\n",
    "\n",
    "import nltk\n",
    "from nltk.tokenize import word_tokenize\n",
    "\n",
    "from selenium import webdriver\n",
    "from selenium.webdriver.common.by import By\n",
    "pip install selenium chromedriver_autoinstaller"
   ]
  },
  {
   "cell_type": "code",
   "execution_count": 82,
   "id": "663dab34-e116-4006-9cce-3f3377bca2d4",
   "metadata": {},
   "outputs": [],
   "source": [
    "#PARAMETERS \n",
    "\n",
    "#Tags to scrape from\n",
    "TAGS = [\n",
    "        'data-science'\n",
    "]\n",
    "\n",
    "#Date range to scrape data\n",
    "DATE_FROM = date(2016,1,1) \n",
    "DATE_TO = date(2023,12,31)\n",
    "\n",
    "#time interval for scraping\n",
    "INTERVAL = 3\n",
    "\n",
    "# Maximum number of articles to scrape per day\n",
    "MAX_ARTICLES_PER_DAY = 30 \n",
    "MAX_RETRIES = 3\n",
    "\n",
    "#email address used to sign in to medium (to scrape member-only articles\n",
    "MEDIUM_EMAIL = 'hiroakiroa@gmail.com'\n",
    "\n",
    "QUERY='autistic'\n",
    "\n",
    "NUM_OF_USERS = 503"
   ]
  },
  {
   "cell_type": "code",
   "execution_count": 89,
   "id": "200d1c56-db7f-419f-a5dd-aad78a367c20",
   "metadata": {},
   "outputs": [],
   "source": [
    "import sys\n",
    "sys.path.insert(0,'/usr/lib/chromium-browser/chromedriver')\n",
    "\n",
    "from selenium import webdriver\n",
    "import chromedriver_autoinstaller\n",
    "\n",
    "chrome_options = webdriver.ChromeOptions()\n",
    "chrome_options.add_argument('--no-sandbox')\n",
    "chrome_options.add_argument('--disable-dev-shm-usage')\n",
    "chromedriver_autoinstaller.install()\n",
    "\n",
    "driver = webdriver.Chrome(options=chrome_options)"
   ]
  },
  {
   "cell_type": "code",
   "execution_count": 18,
   "id": "e3e44624-6546-4b46-abdf-2dc3106d5067",
   "metadata": {},
   "outputs": [],
   "source": [
    "driver.get(\"https://medium.com\")\n",
    "driver.implicitly_wait(3)\n",
    "element = driver.find_element(By.XPATH,\"//a[text()='Sign in']\")\n",
    "element.click()\n",
    "driver.implicitly_wait(0.5)\n",
    "sign_in_with_email = driver.find_element(By.XPATH,'//div[text()=\"Sign in with email\"]')\n",
    "\n",
    "# Perform actions on the element (e.g., click)\n",
    "sign_in_with_email.click()\n",
    "driver.implicitly_wait(0.5)\n",
    "email = driver.find_element(By.XPATH,\"//input[@aria-label='email']\")\n",
    "email.click()\n",
    "driver.implicitly_wait(0.5)\n",
    "\n",
    "email.send_keys(MEDIUM_EMAIL)\n",
    "driver.implicitly_wait(1)\n",
    "cont = driver.find_element(By.XPATH,'//button[text()=\"Continue\"]')\n",
    "cont.click()"
   ]
  },
  {
   "cell_type": "code",
   "execution_count": 19,
   "id": "c9cbeed7-6d09-4c88-a4b2-7758ed6eca3e",
   "metadata": {},
   "outputs": [],
   "source": [
    "## \n",
    "signin_url = 'https://medium.com/m/callback/email?token=0320ac47231c&operation=login&state=medium&source=email-bcc399e9fcdc-1712533743758-auth.login------0-------------------1e557ff0_ada8_43e1_9806_f7d0a4927b71'\n",
    "driver.get(signin_url)\n"
   ]
  },
  {
   "cell_type": "code",
   "execution_count": 99,
   "id": "29b8b50b-c4f3-4f97-8f09-3218c70bc834",
   "metadata": {},
   "outputs": [],
   "source": [
    "driver.get(\"https://medium.com/search/users?q=\" + QUERY)"
   ]
  },
  {
   "cell_type": "code",
   "execution_count": 101,
   "id": "2ee3c5a4-1b95-474f-800a-fbcdb8a6de58",
   "metadata": {},
   "outputs": [
    {
     "ename": "NameError",
     "evalue": "name 'NoSuchElementException' is not defined",
     "output_type": "error",
     "traceback": [
      "\u001b[1;31m---------------------------------------------------------------------------\u001b[0m",
      "\u001b[1;31mNoSuchElementException\u001b[0m                    Traceback (most recent call last)",
      "Cell \u001b[1;32mIn[101], line 6\u001b[0m\n\u001b[0;32m      5\u001b[0m \u001b[38;5;28;01mtry\u001b[39;00m:\n\u001b[1;32m----> 6\u001b[0m     show_more \u001b[38;5;241m=\u001b[39m main\u001b[38;5;241m.\u001b[39mfind_element(By\u001b[38;5;241m.\u001b[39mXPATH,\u001b[38;5;124m'\u001b[39m\u001b[38;5;124m//button[text()=\u001b[39m\u001b[38;5;124m\"\u001b[39m\u001b[38;5;124mShow more\u001b[39m\u001b[38;5;124m\"\u001b[39m\u001b[38;5;124m]\u001b[39m\u001b[38;5;124m'\u001b[39m)\n\u001b[0;32m      7\u001b[0m     show_more\u001b[38;5;241m.\u001b[39mclick()    \n",
      "File \u001b[1;32m~\\AppData\\Roaming\\Python\\Python311\\site-packages\\selenium\\webdriver\\remote\\webelement.py:417\u001b[0m, in \u001b[0;36mWebElement.find_element\u001b[1;34m(self, by, value)\u001b[0m\n\u001b[0;32m    415\u001b[0m     value \u001b[38;5;241m=\u001b[39m \u001b[38;5;124mf\u001b[39m\u001b[38;5;124m'\u001b[39m\u001b[38;5;124m[name=\u001b[39m\u001b[38;5;124m\"\u001b[39m\u001b[38;5;132;01m{\u001b[39;00mvalue\u001b[38;5;132;01m}\u001b[39;00m\u001b[38;5;124m\"\u001b[39m\u001b[38;5;124m]\u001b[39m\u001b[38;5;124m'\u001b[39m\n\u001b[1;32m--> 417\u001b[0m \u001b[38;5;28;01mreturn\u001b[39;00m \u001b[38;5;28mself\u001b[39m\u001b[38;5;241m.\u001b[39m_execute(Command\u001b[38;5;241m.\u001b[39mFIND_CHILD_ELEMENT, {\u001b[38;5;124m\"\u001b[39m\u001b[38;5;124musing\u001b[39m\u001b[38;5;124m\"\u001b[39m: by, \u001b[38;5;124m\"\u001b[39m\u001b[38;5;124mvalue\u001b[39m\u001b[38;5;124m\"\u001b[39m: value})[\u001b[38;5;124m\"\u001b[39m\u001b[38;5;124mvalue\u001b[39m\u001b[38;5;124m\"\u001b[39m]\n",
      "File \u001b[1;32m~\\AppData\\Roaming\\Python\\Python311\\site-packages\\selenium\\webdriver\\remote\\webelement.py:395\u001b[0m, in \u001b[0;36mWebElement._execute\u001b[1;34m(self, command, params)\u001b[0m\n\u001b[0;32m    394\u001b[0m params[\u001b[38;5;124m\"\u001b[39m\u001b[38;5;124mid\u001b[39m\u001b[38;5;124m\"\u001b[39m] \u001b[38;5;241m=\u001b[39m \u001b[38;5;28mself\u001b[39m\u001b[38;5;241m.\u001b[39m_id\n\u001b[1;32m--> 395\u001b[0m \u001b[38;5;28;01mreturn\u001b[39;00m \u001b[38;5;28mself\u001b[39m\u001b[38;5;241m.\u001b[39m_parent\u001b[38;5;241m.\u001b[39mexecute(command, params)\n",
      "File \u001b[1;32m~\\AppData\\Roaming\\Python\\Python311\\site-packages\\selenium\\webdriver\\remote\\webdriver.py:347\u001b[0m, in \u001b[0;36mWebDriver.execute\u001b[1;34m(self, driver_command, params)\u001b[0m\n\u001b[0;32m    346\u001b[0m \u001b[38;5;28;01mif\u001b[39;00m response:\n\u001b[1;32m--> 347\u001b[0m     \u001b[38;5;28mself\u001b[39m\u001b[38;5;241m.\u001b[39merror_handler\u001b[38;5;241m.\u001b[39mcheck_response(response)\n\u001b[0;32m    348\u001b[0m     response[\u001b[38;5;124m\"\u001b[39m\u001b[38;5;124mvalue\u001b[39m\u001b[38;5;124m\"\u001b[39m] \u001b[38;5;241m=\u001b[39m \u001b[38;5;28mself\u001b[39m\u001b[38;5;241m.\u001b[39m_unwrap_value(response\u001b[38;5;241m.\u001b[39mget(\u001b[38;5;124m\"\u001b[39m\u001b[38;5;124mvalue\u001b[39m\u001b[38;5;124m\"\u001b[39m, \u001b[38;5;28;01mNone\u001b[39;00m))\n",
      "File \u001b[1;32m~\\AppData\\Roaming\\Python\\Python311\\site-packages\\selenium\\webdriver\\remote\\errorhandler.py:229\u001b[0m, in \u001b[0;36mErrorHandler.check_response\u001b[1;34m(self, response)\u001b[0m\n\u001b[0;32m    228\u001b[0m     \u001b[38;5;28;01mraise\u001b[39;00m exception_class(message, screen, stacktrace, alert_text)  \u001b[38;5;66;03m# type: ignore[call-arg]  # mypy is not smart enough here\u001b[39;00m\n\u001b[1;32m--> 229\u001b[0m \u001b[38;5;28;01mraise\u001b[39;00m exception_class(message, screen, stacktrace)\n",
      "\u001b[1;31mNoSuchElementException\u001b[0m: Message: no such element: Unable to locate element: {\"method\":\"xpath\",\"selector\":\"//button[text()=\"Show more\"]\"}\n  (Session info: chrome=123.0.6312.86); For documentation on this error, please visit: https://www.selenium.dev/documentation/webdriver/troubleshooting/errors#no-such-element-exception\nStacktrace:\n\tGetHandleVerifier [0x00C54CE3+225091]\n\t(No symbol) [0x00B84E31]\n\t(No symbol) [0x00A29A7A]\n\t(No symbol) [0x00A6175B]\n\t(No symbol) [0x00A6188B]\n\t(No symbol) [0x00A59391]\n\t(No symbol) [0x00A7F5A4]\n\t(No symbol) [0x00A5930E]\n\t(No symbol) [0x00A7F7F4]\n\t(No symbol) [0x00A95CB0]\n\t(No symbol) [0x00A7F2F6]\n\t(No symbol) [0x00A579B9]\n\t(No symbol) [0x00A5879D]\n\tsqlite3_dbdata_init [0x010C9A83+4064547]\n\tsqlite3_dbdata_init [0x010D108A+4094762]\n\tsqlite3_dbdata_init [0x010CB988+4072488]\n\tsqlite3_dbdata_init [0x00DCC9E9+930953]\n\t(No symbol) [0x00B90804]\n\t(No symbol) [0x00B8AD28]\n\t(No symbol) [0x00B8AE51]\n\t(No symbol) [0x00B7CAC0]\n\tBaseThreadInitThunk [0x75FD7BA9+25]\n\tRtlInitializeExceptionChain [0x773DBDAB+107]\n\tRtlClearBits [0x773DBD2F+191]\n",
      "\nDuring handling of the above exception, another exception occurred:\n",
      "\u001b[1;31mNameError\u001b[0m                                 Traceback (most recent call last)",
      "Cell \u001b[1;32mIn[101], line 9\u001b[0m\n\u001b[0;32m      7\u001b[0m         show_more\u001b[38;5;241m.\u001b[39mclick()    \n\u001b[0;32m      8\u001b[0m         time\u001b[38;5;241m.\u001b[39msleep(\u001b[38;5;241m1\u001b[39m)\n\u001b[1;32m----> 9\u001b[0m     \u001b[38;5;28;01mexcept\u001b[39;00m NoSuchElementException:\n\u001b[0;32m     10\u001b[0m         \u001b[38;5;28;01mbreak\u001b[39;00m\n\u001b[0;32m     12\u001b[0m \u001b[38;5;28;01mfor\u001b[39;00m a_element \u001b[38;5;129;01min\u001b[39;00m a_elements:\n",
      "\u001b[1;31mNameError\u001b[0m: name 'NoSuchElementException' is not defined"
     ]
    }
   ],
   "source": [
    "show_more_clicks = int(NUM_OF_USERS / 5 // 1 + 1)\n",
    "urls = []\n",
    "main = driver.find_element(By.TAG_NAME,'main')\n",
    "for i in range(show_more_clicks):\n",
    "    try:\n",
    "        show_more = main.find_element(By.XPATH,'//button[text()=\"Show more\"]')\n",
    "        show_more.click()    \n",
    "        time.sleep(2)\n",
    "    except NoSuchElementException:\n",
    "        break\n",
    "\n",
    "for a_element in a_elements:\n",
    "    urls.append(a_element.get_attribute(\"href\"))"
   ]
  }
 ],
 "metadata": {
  "kernelspec": {
   "display_name": "Python 3 (ipykernel)",
   "language": "python",
   "name": "python3"
  },
  "language_info": {
   "codemirror_mode": {
    "name": "ipython",
    "version": 3
   },
   "file_extension": ".py",
   "mimetype": "text/x-python",
   "name": "python",
   "nbconvert_exporter": "python",
   "pygments_lexer": "ipython3",
   "version": "3.11.7"
  }
 },
 "nbformat": 4,
 "nbformat_minor": 5
}
