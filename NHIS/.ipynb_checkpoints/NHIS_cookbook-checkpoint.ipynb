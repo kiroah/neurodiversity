{
 "cells": [
  {
   "cell_type": "markdown",
   "id": "ad26e21d-2961-4df1-80b1-354548d28dc8",
   "metadata": {
    "tags": []
   },
   "source": [
    "# NHIS cookbook"
   ]
  },
  {
   "cell_type": "code",
   "execution_count": 5,
   "id": "b4985a91-b1a9-4172-97f2-6612c046f910",
   "metadata": {
    "tags": []
   },
   "outputs": [
    {
     "ename": "SyntaxError",
     "evalue": "invalid syntax (90053272.py, line 1)",
     "output_type": "error",
     "traceback": [
      "\u001b[1;36m  Cell \u001b[1;32mIn[5], line 1\u001b[1;36m\u001b[0m\n\u001b[1;33m    pip install tabula-py\u001b[0m\n\u001b[1;37m        ^\u001b[0m\n\u001b[1;31mSyntaxError\u001b[0m\u001b[1;31m:\u001b[0m invalid syntax\n"
     ]
    }
   ],
   "source": [
    "pip install tabula-py"
   ]
  },
  {
   "cell_type": "code",
   "execution_count": 8,
   "id": "3a753e1f-9878-42d8-a0d2-ea9be287f0a7",
   "metadata": {
    "tags": []
   },
   "outputs": [
    {
     "name": "stdout",
     "output_type": "stream",
     "text": [
      "Collecting jpype1\n",
      "  Obtaining dependency information for jpype1 from https://files.pythonhosted.org/packages/1f/19/144f3a767b563ba5c6d4aa534ea1f3fad9a5067c3917df4458a6e1afe0ef/JPype1-1.5.0-cp311-cp311-win_amd64.whl.metadata\n",
      "  Downloading JPype1-1.5.0-cp311-cp311-win_amd64.whl.metadata (5.0 kB)\n",
      "Requirement already satisfied: packaging in c:\\users\\hiron\\anaconda3\\lib\\site-packages (from jpype1) (23.1)\n",
      "Downloading JPype1-1.5.0-cp311-cp311-win_amd64.whl (351 kB)\n",
      "   ---------------------------------------- 0.0/351.5 kB ? eta -:--:--\n",
      "   - -------------------------------------- 10.2/351.5 kB ? eta -:--:--\n",
      "   - -------------------------------------- 10.2/351.5 kB ? eta -:--:--\n",
      "   ------ -------------------------------- 61.4/351.5 kB 469.7 kB/s eta 0:00:01\n",
      "   ----------------------- ---------------- 204.8/351.5 kB 1.2 MB/s eta 0:00:01\n",
      "   ---------------------------------------  348.2/351.5 kB 1.7 MB/s eta 0:00:01\n",
      "   ---------------------------------------- 351.5/351.5 kB 1.7 MB/s eta 0:00:00\n",
      "Installing collected packages: jpype1\n",
      "Successfully installed jpype1-1.5.0\n",
      "Note: you may need to restart the kernel to use updated packages.\n"
     ]
    }
   ],
   "source": [
    "pip install jpype1"
   ]
  },
  {
   "cell_type": "code",
   "execution_count": 3,
   "id": "2a3d2b18-b32a-4cd7-9981-c6705e7025ed",
   "metadata": {
    "tags": []
   },
   "outputs": [],
   "source": [
    "import tabula\n",
    "import pandas as pd"
   ]
  },
  {
   "cell_type": "code",
   "execution_count": 55,
   "id": "c6cef017-58ba-4440-a13b-38d82c936681",
   "metadata": {
    "tags": []
   },
   "outputs": [],
   "source": [
    "pdf_path = 'C:/Users/hiron/Documents/DS/MH/adult-summary.pdf'\n",
    "\n",
    "# Read tables from PDF into a list of DataFrames\n",
    "# Note that we are not importing the header names because some pages don't have headers, and so pandas will use the data row as header row\n",
    "tables = tabula.read_pdf(pdf_path, pages='all', multiple_tables=True, pandas_options={'header':'None'})\n",
    "\n"
   ]
  },
  {
   "cell_type": "code",
   "execution_count": 56,
   "id": "0cc45026-1129-45f4-b6d0-e5433bf6bb1d",
   "metadata": {
    "tags": []
   },
   "outputs": [
    {
     "data": {
      "text/html": [
       "<div>\n",
       "<style scoped>\n",
       "    .dataframe tbody tr th:only-of-type {\n",
       "        vertical-align: middle;\n",
       "    }\n",
       "\n",
       "    .dataframe tbody tr th {\n",
       "        vertical-align: top;\n",
       "    }\n",
       "\n",
       "    .dataframe thead th {\n",
       "        text-align: right;\n",
       "    }\n",
       "</style>\n",
       "<table border=\"1\" class=\"dataframe\">\n",
       "  <thead>\n",
       "    <tr style=\"text-align: right;\">\n",
       "      <th></th>\n",
       "      <th>Variable #</th>\n",
       "      <th>Question #</th>\n",
       "      <th>Variable Name</th>\n",
       "      <th>Source Variables</th>\n",
       "      <th>Description</th>\n",
       "      <th>Type</th>\n",
       "      <th>Location</th>\n",
       "      <th>Length</th>\n",
       "    </tr>\n",
       "  </thead>\n",
       "  <tbody>\n",
       "    <tr>\n",
       "      <th>1</th>\n",
       "      <td>1</td>\n",
       "      <td>NaN</td>\n",
       "      <td>RECTYPE</td>\n",
       "      <td>NaN</td>\n",
       "      <td>Record type</td>\n",
       "      <td>Num</td>\n",
       "      <td>1 - 2</td>\n",
       "      <td>2</td>\n",
       "    </tr>\n",
       "    <tr>\n",
       "      <th>2</th>\n",
       "      <td>2</td>\n",
       "      <td>NaN</td>\n",
       "      <td>SRVY_YR</td>\n",
       "      <td>NaN</td>\n",
       "      <td>Year of the National Health Interview Survey</td>\n",
       "      <td>Num</td>\n",
       "      <td>3 - 6</td>\n",
       "      <td>4</td>\n",
       "    </tr>\n",
       "    <tr>\n",
       "      <th>3</th>\n",
       "      <td>3</td>\n",
       "      <td>NaN</td>\n",
       "      <td>HHX</td>\n",
       "      <td>NaN</td>\n",
       "      <td>Randomly assigned household number unique to a...</td>\n",
       "      <td>Char</td>\n",
       "      <td>7 - 13</td>\n",
       "      <td>7</td>\n",
       "    </tr>\n",
       "    <tr>\n",
       "      <th>4</th>\n",
       "      <td>4</td>\n",
       "      <td>NaN</td>\n",
       "      <td>WTFA_A</td>\n",
       "      <td>NaN</td>\n",
       "      <td>Weight - Final Annual</td>\n",
       "      <td>Num</td>\n",
       "      <td>14 - 23</td>\n",
       "      <td>10</td>\n",
       "    </tr>\n",
       "    <tr>\n",
       "      <th>6</th>\n",
       "      <td>1</td>\n",
       "      <td>Recode</td>\n",
       "      <td>URBRRL</td>\n",
       "      <td>NaN</td>\n",
       "      <td>2013 NCHS Urban-Rural Classification Scheme fo...</td>\n",
       "      <td>Num</td>\n",
       "      <td>24</td>\n",
       "      <td>1</td>\n",
       "    </tr>\n",
       "    <tr>\n",
       "      <th>...</th>\n",
       "      <td>...</td>\n",
       "      <td>...</td>\n",
       "      <td>...</td>\n",
       "      <td>...</td>\n",
       "      <td>...</td>\n",
       "      <td>...</td>\n",
       "      <td>...</td>\n",
       "      <td>...</td>\n",
       "    </tr>\n",
       "    <tr>\n",
       "      <th>699</th>\n",
       "      <td>2</td>\n",
       "      <td>HOU.0020.00.1</td>\n",
       "      <td>HOUTENURE_A</td>\n",
       "      <td>NaN</td>\n",
       "      <td>Residence owned/rented</td>\n",
       "      <td>Num</td>\n",
       "      <td>814</td>\n",
       "      <td>1</td>\n",
       "    </tr>\n",
       "    <tr>\n",
       "      <th>700</th>\n",
       "      <td>3</td>\n",
       "      <td>HOU.0030.00.1</td>\n",
       "      <td>HOUGVASST_A</td>\n",
       "      <td>NaN</td>\n",
       "      <td>Paying lower rent</td>\n",
       "      <td>Num</td>\n",
       "      <td>815</td>\n",
       "      <td>1</td>\n",
       "    </tr>\n",
       "    <tr>\n",
       "      <th>702</th>\n",
       "      <td>1</td>\n",
       "      <td>TBH.0010.00.4</td>\n",
       "      <td>TRANSPOR_A</td>\n",
       "      <td>NaN</td>\n",
       "      <td>Delay care in the past 12 months because no re...</td>\n",
       "      <td>Num</td>\n",
       "      <td>816</td>\n",
       "      <td>1</td>\n",
       "    </tr>\n",
       "    <tr>\n",
       "      <th>704</th>\n",
       "      <td>1</td>\n",
       "      <td>CIV.0010.00.4</td>\n",
       "      <td>CEMMETNG_A</td>\n",
       "      <td>NaN</td>\n",
       "      <td>Attend public meeting</td>\n",
       "      <td>Num</td>\n",
       "      <td>817</td>\n",
       "      <td>1</td>\n",
       "    </tr>\n",
       "    <tr>\n",
       "      <th>705</th>\n",
       "      <td>2</td>\n",
       "      <td>CIV.0020.00.4</td>\n",
       "      <td>CEVOTELC_A</td>\n",
       "      <td>NaN</td>\n",
       "      <td>Vote in last local elections</td>\n",
       "      <td>Num</td>\n",
       "      <td>818</td>\n",
       "      <td>1</td>\n",
       "    </tr>\n",
       "  </tbody>\n",
       "</table>\n",
       "<p>637 rows × 8 columns</p>\n",
       "</div>"
      ],
      "text/plain": [
       "    Variable #     Question # Variable Name Source Variables  \\\n",
       "1            1            NaN       RECTYPE              NaN   \n",
       "2            2            NaN       SRVY_YR              NaN   \n",
       "3            3            NaN           HHX              NaN   \n",
       "4            4            NaN        WTFA_A              NaN   \n",
       "6            1         Recode        URBRRL              NaN   \n",
       "..         ...            ...           ...              ...   \n",
       "699          2  HOU.0020.00.1   HOUTENURE_A              NaN   \n",
       "700          3  HOU.0030.00.1   HOUGVASST_A              NaN   \n",
       "702          1  TBH.0010.00.4    TRANSPOR_A              NaN   \n",
       "704          1  CIV.0010.00.4    CEMMETNG_A              NaN   \n",
       "705          2  CIV.0020.00.4    CEVOTELC_A              NaN   \n",
       "\n",
       "                                           Description  Type Location Length  \n",
       "1                                          Record type   Num    1 - 2      2  \n",
       "2         Year of the National Health Interview Survey   Num    3 - 6      4  \n",
       "3    Randomly assigned household number unique to a...  Char   7 - 13      7  \n",
       "4                                Weight - Final Annual   Num  14 - 23     10  \n",
       "6    2013 NCHS Urban-Rural Classification Scheme fo...   Num       24      1  \n",
       "..                                                 ...   ...      ...    ...  \n",
       "699                             Residence owned/rented   Num      814      1  \n",
       "700                                  Paying lower rent   Num      815      1  \n",
       "702  Delay care in the past 12 months because no re...   Num      816      1  \n",
       "704                              Attend public meeting   Num      817      1  \n",
       "705                       Vote in last local elections   Num      818      1  \n",
       "\n",
       "[637 rows x 8 columns]"
      ]
     },
     "execution_count": 56,
     "metadata": {},
     "output_type": "execute_result"
    }
   ],
   "source": [
    "all_tables = pd.DataFrame(columns=range(0,7))\n",
    "                          \n",
    "                        \n",
    "# Iterate through the extracted tables and combine them\n",
    "for i, table in enumerate(tables):\n",
    "    all_tables = pd.concat([all_tables, table], ignore_index=True, axis=0)\n",
    "\n",
    "\n",
    "# Rename column names\n",
    "all_tables = all_tables.rename(columns={\n",
    "    0: \"Variable #\",\n",
    "    1: \"Question #\",\n",
    "    2: \"Variable Name\",\n",
    "    3: \"Source Variables\",\n",
    "    4: \"Description\",\n",
    "    5: \"Type\",\n",
    "    6: \"Location\",\n",
    "    7: \"Length\"})\n",
    "\n",
    "# Drop duplicates (the duplicative header name rows) and the first row\n",
    "all_tables.drop_duplicates(inplace=True)\n",
    "all_tables.drop(axis=0, index=0,inplace=True)\n",
    "all_tables"
   ]
  },
  {
   "cell_type": "code",
   "execution_count": 57,
   "id": "0b7990e7-ec50-4eac-b88a-fcf4195b7344",
   "metadata": {
    "tags": []
   },
   "outputs": [],
   "source": [
    "all_tables.to_csv(\"adult-summary.csv\")"
   ]
  }
 ],
 "metadata": {
  "kernelspec": {
   "display_name": "Python 3 (ipykernel)",
   "language": "python",
   "name": "python3"
  },
  "language_info": {
   "codemirror_mode": {
    "name": "ipython",
    "version": 3
   },
   "file_extension": ".py",
   "mimetype": "text/x-python",
   "name": "python",
   "nbconvert_exporter": "python",
   "pygments_lexer": "ipython3",
   "version": "3.11.5"
  }
 },
 "nbformat": 4,
 "nbformat_minor": 5
}
