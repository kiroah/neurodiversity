{
 "cells": [
  {
   "cell_type": "code",
   "execution_count": 5,
   "id": "8d5a6ff3-9d19-4bc6-a449-d69c61733db3",
   "metadata": {},
   "outputs": [],
   "source": [
    "import os\n",
    "from dotenv import load_dotenv\n",
    "\n",
    "import pandas as pd"
   ]
  },
  {
   "cell_type": "code",
   "execution_count": 2,
   "id": "599bc63e-75a6-4c28-8fd3-a4842a20fe50",
   "metadata": {},
   "outputs": [
    {
     "data": {
      "text/plain": [
       "True"
      ]
     },
     "execution_count": 2,
     "metadata": {},
     "output_type": "execute_result"
    }
   ],
   "source": [
    "load_dotenv(\"API.env\")"
   ]
  },
  {
   "cell_type": "code",
   "execution_count": 22,
   "id": "e4109b7b-fd7b-44a0-ab7e-3c31358f9847",
   "metadata": {},
   "outputs": [],
   "source": [
    "df = pd.read_csv(\"data/articles_2020-01_data-science.csv\")"
   ]
  },
  {
   "cell_type": "code",
   "execution_count": 23,
   "id": "110e61a2-0b1d-4808-8898-4fa5224c0560",
   "metadata": {
    "scrolled": true
   },
   "outputs": [
    {
     "data": {
      "text/html": [
       "<div>\n",
       "<style scoped>\n",
       "    .dataframe tbody tr th:only-of-type {\n",
       "        vertical-align: middle;\n",
       "    }\n",
       "\n",
       "    .dataframe tbody tr th {\n",
       "        vertical-align: top;\n",
       "    }\n",
       "\n",
       "    .dataframe thead th {\n",
       "        text-align: right;\n",
       "    }\n",
       "</style>\n",
       "<table border=\"1\" class=\"dataframe\">\n",
       "  <thead>\n",
       "    <tr style=\"text-align: right;\">\n",
       "      <th></th>\n",
       "      <th>url</th>\n",
       "      <th>tag</th>\n",
       "      <th>date</th>\n",
       "      <th>content</th>\n",
       "    </tr>\n",
       "  </thead>\n",
       "  <tbody>\n",
       "    <tr>\n",
       "      <th>0</th>\n",
       "      <td>https://towardsdatascience.com/beware-of-imple...</td>\n",
       "      <td>data-science</td>\n",
       "      <td>2020-01-01</td>\n",
       "      <td>Member-only story\\r\\nBenjamin Obi Tayo Ph.D.\\r...</td>\n",
       "    </tr>\n",
       "    <tr>\n",
       "      <th>1</th>\n",
       "      <td>https://medium.com/@cmemorys/penerapan-algorit...</td>\n",
       "      <td>data-science</td>\n",
       "      <td>2020-01-01</td>\n",
       "      <td>Christ Memory Sitorus\\r\\nFollow\\r\\n48\\r\\n1\\r\\n...</td>\n",
       "    </tr>\n",
       "    <tr>\n",
       "      <th>2</th>\n",
       "      <td>https://medium.com/@joelpires/inferring-commut...</td>\n",
       "      <td>data-science</td>\n",
       "      <td>2020-01-01</td>\n",
       "      <td>Top highlight\\r\\nJoel Pires\\r\\nFollow\\r\\n318\\r...</td>\n",
       "    </tr>\n",
       "    <tr>\n",
       "      <th>3</th>\n",
       "      <td>https://medium.com/computronium/computationall...</td>\n",
       "      <td>data-science</td>\n",
       "      <td>2020-01-01</td>\n",
       "      <td>Top highlight\\r\\nJake Batsuuri\\r\\nFollow\\r\\nCo...</td>\n",
       "    </tr>\n",
       "    <tr>\n",
       "      <th>4</th>\n",
       "      <td>https://medium.com/neo4j/coloring-a-sudoku-gra...</td>\n",
       "      <td>data-science</td>\n",
       "      <td>2020-01-01</td>\n",
       "      <td>Nathan Smith\\r\\nFollow\\r\\nNeo4j Developer Blog...</td>\n",
       "    </tr>\n",
       "    <tr>\n",
       "      <th>5</th>\n",
       "      <td>https://medium.com/analytics-vidhya/basic-unde...</td>\n",
       "      <td>data-science</td>\n",
       "      <td>2020-01-01</td>\n",
       "      <td>Anuj Sharma\\r\\nFollow\\r\\nAnalytics Vidhya\\r\\nL...</td>\n",
       "    </tr>\n",
       "    <tr>\n",
       "      <th>6</th>\n",
       "      <td>https://medium.com/@abhilash.sirigari/a-comple...</td>\n",
       "      <td>data-science</td>\n",
       "      <td>2020-01-01</td>\n",
       "      <td>Abhilash Kumar Sirigari\\r\\nFollow\\r\\n88\\r\\n1\\r...</td>\n",
       "    </tr>\n",
       "    <tr>\n",
       "      <th>7</th>\n",
       "      <td>https://medium.com/@smoothml/how-to-progress-i...</td>\n",
       "      <td>data-science</td>\n",
       "      <td>2020-01-01</td>\n",
       "      <td>Paul Harrison\\r\\nFollow\\r\\n64\\r\\nListen\\r\\nSha...</td>\n",
       "    </tr>\n",
       "    <tr>\n",
       "      <th>8</th>\n",
       "      <td>https://medium.com/analytics-vidhya/mathematic...</td>\n",
       "      <td>data-science</td>\n",
       "      <td>2020-01-01</td>\n",
       "      <td>Bijula Ratheesh\\r\\nFollow\\r\\nAnalytics Vidhya\\...</td>\n",
       "    </tr>\n",
       "    <tr>\n",
       "      <th>9</th>\n",
       "      <td>https://medium.com/@sanat-shukla/data-science-...</td>\n",
       "      <td>data-science</td>\n",
       "      <td>2020-01-01</td>\n",
       "      <td>.Net Developer\\r\\nFollow\\r\\nListen\\r\\nShare\\r\\...</td>\n",
       "    </tr>\n",
       "  </tbody>\n",
       "</table>\n",
       "</div>"
      ],
      "text/plain": [
       "                                                 url           tag  \\\n",
       "0  https://towardsdatascience.com/beware-of-imple...  data-science   \n",
       "1  https://medium.com/@cmemorys/penerapan-algorit...  data-science   \n",
       "2  https://medium.com/@joelpires/inferring-commut...  data-science   \n",
       "3  https://medium.com/computronium/computationall...  data-science   \n",
       "4  https://medium.com/neo4j/coloring-a-sudoku-gra...  data-science   \n",
       "5  https://medium.com/analytics-vidhya/basic-unde...  data-science   \n",
       "6  https://medium.com/@abhilash.sirigari/a-comple...  data-science   \n",
       "7  https://medium.com/@smoothml/how-to-progress-i...  data-science   \n",
       "8  https://medium.com/analytics-vidhya/mathematic...  data-science   \n",
       "9  https://medium.com/@sanat-shukla/data-science-...  data-science   \n",
       "\n",
       "         date                                            content  \n",
       "0  2020-01-01  Member-only story\\r\\nBenjamin Obi Tayo Ph.D.\\r...  \n",
       "1  2020-01-01  Christ Memory Sitorus\\r\\nFollow\\r\\n48\\r\\n1\\r\\n...  \n",
       "2  2020-01-01  Top highlight\\r\\nJoel Pires\\r\\nFollow\\r\\n318\\r...  \n",
       "3  2020-01-01  Top highlight\\r\\nJake Batsuuri\\r\\nFollow\\r\\nCo...  \n",
       "4  2020-01-01  Nathan Smith\\r\\nFollow\\r\\nNeo4j Developer Blog...  \n",
       "5  2020-01-01  Anuj Sharma\\r\\nFollow\\r\\nAnalytics Vidhya\\r\\nL...  \n",
       "6  2020-01-01  Abhilash Kumar Sirigari\\r\\nFollow\\r\\n88\\r\\n1\\r...  \n",
       "7  2020-01-01  Paul Harrison\\r\\nFollow\\r\\n64\\r\\nListen\\r\\nSha...  \n",
       "8  2020-01-01  Bijula Ratheesh\\r\\nFollow\\r\\nAnalytics Vidhya\\...  \n",
       "9  2020-01-01  .Net Developer\\r\\nFollow\\r\\nListen\\r\\nShare\\r\\...  "
      ]
     },
     "execution_count": 23,
     "metadata": {},
     "output_type": "execute_result"
    }
   ],
   "source": [
    "df.head(10)"
   ]
  },
  {
   "cell_type": "code",
   "execution_count": 36,
   "id": "a6568d72-b152-44be-9f7a-4a490a7855fc",
   "metadata": {},
   "outputs": [
    {
     "data": {
      "text/plain": [
       "'https://towardsdatascience.com/beware-of-implementing-machine-learning-models-as-black-box-tools-d08947db7536'"
      ]
     },
     "execution_count": 36,
     "metadata": {},
     "output_type": "execute_result"
    }
   ],
   "source": [
    "df.iloc[0,0]"
   ]
  },
  {
   "cell_type": "code",
   "execution_count": 31,
   "id": "71c0d709-8de4-48d6-a307-21ce03e2b02b",
   "metadata": {},
   "outputs": [],
   "source": [
    "content = \"Please edit the following paragraphs to sound more refined for a blog post.\\r\\n\\r\\n\" + df.iloc[7,3]\n"
   ]
  },
  {
   "cell_type": "code",
   "execution_count": 32,
   "id": "dadcb840-483c-4aae-bce5-2183412b0b83",
   "metadata": {},
   "outputs": [],
   "source": [
    "completion = client.chat.completions.create(\n",
    "  model=\"gpt-3.5-turbo\",\n",
    "  messages=[\n",
    "    {\"role\": \"user\", \"content\": content}\n",
    "  ]\n",
    ")"
   ]
  },
  {
   "cell_type": "code",
   "execution_count": 33,
   "id": "d21e44e0-3a08-4028-9118-8b8b55336e09",
   "metadata": {
    "scrolled": true
   },
   "outputs": [
    {
     "name": "stdout",
     "output_type": "stream",
     "text": [
      "I have dedicated nearly six years of my career to the field of data science. My journey began somewhat unexpectedly, as my experience with machine learning during my PhD naturally led me to my first job as a data scientist post-graduation. At the time, I felt like I was navigating uncharted waters, but I forged ahead with determination and a willingness to learn.\n",
      "\n",
      "Fast forward to today, and I can confidently say that I have achieved a level of success in my role. As a senior data scientist, my insights are valued, and my recommendations are acted upon. Throughout my career, I have had the privilege of collaborating with and learning from a wide range of data scientists, each possessing unique strengths and perspectives.\n",
      "\n",
      "While I often identify as a machine learning engineer, I have developed a diverse skill set over the years. From building web applications to configuring infrastructure for production servers, I have embraced a multitude of challenges in order to effectively solve problems. It is through this cross-functional approach that I have found success in my field.\n",
      "\n",
      "In the world of data science, adaptability and versatility are key qualities for advancement. By going beyond traditional statistical and machine learning skills and honing other important competencies, such as reproducibility, coding proficiency, business acumen, and communication skills, data scientists can set themselves apart and excel in their roles.\n",
      "\n",
      "As I reflect on my professional journey, I am grateful for the diverse experiences that have shaped my career. By embracing cross-functionality and staying attuned to the evolving needs of the industry, I have been able to navigate challenges, seize opportunities, and forge a fulfilling career path in data science. Thank you for taking the time to read this article, and I hope you find the insights shared here valuable. For more content and updates, feel free to connect with me on Twitter or explore my recent projects on GitHub.\n"
     ]
    }
   ],
   "source": [
    "print(completion.choices[0].message.content)"
   ]
  },
  {
   "cell_type": "code",
   "execution_count": 30,
   "id": "3845cab1-6a70-417b-af81-e5f0368141ed",
   "metadata": {},
   "outputs": [
    {
     "name": "stdout",
     "output_type": "stream",
     "text": [
      "Please edit the following paragraphs to sound more professional for a blog post.\n",
      "\n",
      "Paul Harrison\n",
      "Follow\n",
      "64\n",
      "Listen\n",
      "Share\n",
      "More\n",
      "I’ve been a data scientist for nearly six years. As with most other things I’ve done in life, I kind of fell into it. I’d done some machine learning during my PhD, though this wasn’t the important bit. Post-PhD, having been wooed by its sexiness, I wound up in my first data science job. I didn’t really know what I was doing, but I assumed nobody else did either and cracked on.\n",
      "Six years on and I’ve been moderately successful — I’m now senior enough people actually listen to what I say and, for better or worse, act on my recommendations! Over this time I’ve worked with and met a lot of other data scientists. There are many different types — between six and ten, depending who you ask. Each is valuable, but the context in which each succeeds varies.\n",
      "I would probably describe myself as a machine learning engineer, though mainly because that’s the bit I find most fun! In reality I’ve done all sorts over the years — I’ve built web applications, written infrastructure as code for production servers, configured CI/CD pipelines… Whatever was required to solve the problem at hand. I once tried to migrate a WordPress site. In the end I gave up and we paid for someone who knew what they were doing!\n",
      "So, how have I been successful? By “successful” I mean I now earn enough money to maybe afford a house some day, even though I eat avocado toast… Well, I firmly believe it’s because I’ve focused on ended up being cross-functional. There are many data scientists who know more statistics than me, and plenty more who can build higher performing machine learning models. However, in my experience most companies most of the time benefit from data scientists capable of (and interested in) more that just statistics and machine learning.\n",
      "A more focused skill set is certainly valuable but, in my experience, the range of contexts in which you can succeed is narrower. Generally speaking, the smaller the company the greater the need for cross-functionality. However, larger organisations producing more mature data products require specialism, which is where increased focus will serve you well. That said, cross-functionality is beneficial wherever you work. Even if your day-to-day is pure data science, some degree of cross-functionality will give you greater context and improve your working relationship with other teams.\n",
      "I love doing all these non-data science things — I can never commit to a side project because there are just so many things I want to try! — but most data scientists probably don’t. So what, specifically, are the key non-data science skills you need to progress, whichever area you decide to specialise in?\n",
      "Reproducibility. Whilst the most important objective in data science is normally communication of results, you should always endeavor to make your analysis reproducible. This is especially important if you’re producing a prototype for a future production system rather than a research report. There are plenty of tools to help with this, such as Kedro or (shameless plug!) my own template, DataBake.\n",
      "Learn to code. This doesn’t simply mean make Python do things. It means learn to code well, following software engineering best practices. “It works on my laptop” just doesn’t cut it I’m afraid! You normally don’t need to go as far as writing a full test suite. However, taking care to get the basics right, such as not hard-coding variables, adding helpful comments, and using functions/classes to organise your code, go a long way towards making your project reproducible and maintainable.\n",
      "Be pragmatic. This means understanding the business context of what you’re doing and appreciating a product doesn’t need to perform as well as you want it to perform to be useful to a customer. Most of the web doesn’t work very well and data science is no exception. I’m frequently amazed at how low the bar is!\n",
      "Avoid machine learning. This might be a controversial one (at least amongst data scientists!) but hear me out… Machine learning is hard. It’s hard to build. It’s hard to deploy. It’s hard to maintain. If you can get 80% of the value (that’s customer value, not necessarily model performance) without machine learning, do that. Or, at the very least, do that first then iterate.\n",
      "Keep half an eye on production. I’ve lost count of the number of times I’ve seen a very highly performing model noped by engineering, normally due to some variation of “that won’t scale”. Bunch of kill joys! Still, it’s worth keeping production in mind whilst building your prototypes, ideally involving an engineer from the outset. Remember, 80% accuracy in production is infinitely more valuable than 98% on your laptop!\n",
      "Learn to talk to non-technical people. I can’t stress enough how important this is. Pro tip: don’t show them equations! In fact, try and avoid technical detail. What they want to know is why the problem needs solving in the first place (typically this translates into how much money the solution will save/make) and whether you have solved it sufficiently well.\n",
      "I hope you found this article useful — I follow this advice each working day and it’s served me well so far! For more (occasional!) perls of wisdom/streams of nonsense you can follow me on Twitter, or to see what I’ve been up to recently check out my GitHub.\n",
      "Originally published at https://paul.harrison.sh on January 1, 2020.\n",
      "\n"
     ]
    }
   ],
   "source": [
    "print(content)"
   ]
  },
  {
   "cell_type": "code",
   "execution_count": null,
   "id": "d33c1224-a22a-4871-b9bc-b65bc2f8c712",
   "metadata": {},
   "outputs": [],
   "source": []
  }
 ],
 "metadata": {
  "kernelspec": {
   "display_name": "Python 3 (ipykernel)",
   "language": "python",
   "name": "python3"
  },
  "language_info": {
   "codemirror_mode": {
    "name": "ipython",
    "version": 3
   },
   "file_extension": ".py",
   "mimetype": "text/x-python",
   "name": "python",
   "nbconvert_exporter": "python",
   "pygments_lexer": "ipython3",
   "version": "3.11.7"
  }
 },
 "nbformat": 4,
 "nbformat_minor": 5
}
